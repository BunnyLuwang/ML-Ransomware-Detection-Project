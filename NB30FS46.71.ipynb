{
 "cells": [
  {
   "cell_type": "code",
   "execution_count": 1,
   "id": "dafda91e",
   "metadata": {},
   "outputs": [],
   "source": [
    "#importing basic packages\n",
    "import pandas as pd\n",
    "import numpy as np\n",
    "import seaborn as sns\n",
    "import matplotlib.pyplot as plt\n",
    "from sklearn.naive_bayes import GaussianNB"
   ]
  },
  {
   "cell_type": "code",
   "execution_count": 2,
   "id": "a1ff4438",
   "metadata": {},
   "outputs": [
    {
     "data": {
      "text/html": [
       "<div>\n",
       "<style scoped>\n",
       "    .dataframe tbody tr th:only-of-type {\n",
       "        vertical-align: middle;\n",
       "    }\n",
       "\n",
       "    .dataframe tbody tr th {\n",
       "        vertical-align: top;\n",
       "    }\n",
       "\n",
       "    .dataframe thead th {\n",
       "        text-align: right;\n",
       "    }\n",
       "</style>\n",
       "<table border=\"1\" class=\"dataframe\">\n",
       "  <thead>\n",
       "    <tr style=\"text-align: right;\">\n",
       "      <th></th>\n",
       "      <th>Flow ID</th>\n",
       "      <th>Source IP</th>\n",
       "      <th>Source Port</th>\n",
       "      <th>Destination IP</th>\n",
       "      <th>Destination Port</th>\n",
       "      <th>Protocol</th>\n",
       "      <th>Timestamp</th>\n",
       "      <th>Flow Duration</th>\n",
       "      <th>Total Fwd Packets</th>\n",
       "      <th>Total Backward Packets</th>\n",
       "      <th>...</th>\n",
       "      <th>min_seg_size_forward</th>\n",
       "      <th>Active Mean</th>\n",
       "      <th>Active Std</th>\n",
       "      <th>Active Max</th>\n",
       "      <th>Active Min</th>\n",
       "      <th>Idle Mean</th>\n",
       "      <th>Idle Std</th>\n",
       "      <th>Idle Max</th>\n",
       "      <th>Idle Min</th>\n",
       "      <th>Label</th>\n",
       "    </tr>\n",
       "  </thead>\n",
       "  <tbody>\n",
       "    <tr>\n",
       "      <th>0</th>\n",
       "      <td>172.217.2.174-10.42.0.211-443-51023-6</td>\n",
       "      <td>10.42.0.211</td>\n",
       "      <td>51023</td>\n",
       "      <td>172.217.2.174</td>\n",
       "      <td>443</td>\n",
       "      <td>6</td>\n",
       "      <td>16/06/2017 03:55:47</td>\n",
       "      <td>151054</td>\n",
       "      <td>6</td>\n",
       "      <td>8</td>\n",
       "      <td>...</td>\n",
       "      <td>32</td>\n",
       "      <td>0.0</td>\n",
       "      <td>0.0</td>\n",
       "      <td>0.0</td>\n",
       "      <td>0.0</td>\n",
       "      <td>0.0</td>\n",
       "      <td>0.0</td>\n",
       "      <td>0.0</td>\n",
       "      <td>0.0</td>\n",
       "      <td>0</td>\n",
       "    </tr>\n",
       "    <tr>\n",
       "      <th>1</th>\n",
       "      <td>172.217.2.174-10.42.0.211-443-51023-6</td>\n",
       "      <td>10.42.0.211</td>\n",
       "      <td>51023</td>\n",
       "      <td>172.217.2.174</td>\n",
       "      <td>443</td>\n",
       "      <td>6</td>\n",
       "      <td>16/06/2017 03:55:47</td>\n",
       "      <td>349</td>\n",
       "      <td>2</td>\n",
       "      <td>0</td>\n",
       "      <td>...</td>\n",
       "      <td>32</td>\n",
       "      <td>0.0</td>\n",
       "      <td>0.0</td>\n",
       "      <td>0.0</td>\n",
       "      <td>0.0</td>\n",
       "      <td>0.0</td>\n",
       "      <td>0.0</td>\n",
       "      <td>0.0</td>\n",
       "      <td>0.0</td>\n",
       "      <td>0</td>\n",
       "    </tr>\n",
       "    <tr>\n",
       "      <th>2</th>\n",
       "      <td>172.217.12.174-10.42.0.211-443-34259-6</td>\n",
       "      <td>10.42.0.211</td>\n",
       "      <td>34259</td>\n",
       "      <td>172.217.12.174</td>\n",
       "      <td>443</td>\n",
       "      <td>6</td>\n",
       "      <td>16/06/2017 03:55:52</td>\n",
       "      <td>119</td>\n",
       "      <td>2</td>\n",
       "      <td>0</td>\n",
       "      <td>...</td>\n",
       "      <td>32</td>\n",
       "      <td>0.0</td>\n",
       "      <td>0.0</td>\n",
       "      <td>0.0</td>\n",
       "      <td>0.0</td>\n",
       "      <td>0.0</td>\n",
       "      <td>0.0</td>\n",
       "      <td>0.0</td>\n",
       "      <td>0.0</td>\n",
       "      <td>0</td>\n",
       "    </tr>\n",
       "    <tr>\n",
       "      <th>3</th>\n",
       "      <td>172.217.10.74-10.42.0.211-443-55509-6</td>\n",
       "      <td>10.42.0.211</td>\n",
       "      <td>55509</td>\n",
       "      <td>172.217.10.74</td>\n",
       "      <td>443</td>\n",
       "      <td>6</td>\n",
       "      <td>16/06/2017 03:55:53</td>\n",
       "      <td>37055</td>\n",
       "      <td>1</td>\n",
       "      <td>1</td>\n",
       "      <td>...</td>\n",
       "      <td>32</td>\n",
       "      <td>0.0</td>\n",
       "      <td>0.0</td>\n",
       "      <td>0.0</td>\n",
       "      <td>0.0</td>\n",
       "      <td>0.0</td>\n",
       "      <td>0.0</td>\n",
       "      <td>0.0</td>\n",
       "      <td>0.0</td>\n",
       "      <td>0</td>\n",
       "    </tr>\n",
       "    <tr>\n",
       "      <th>4</th>\n",
       "      <td>172.217.2.174-10.42.0.211-443-44852-6</td>\n",
       "      <td>10.42.0.211</td>\n",
       "      <td>44852</td>\n",
       "      <td>172.217.2.174</td>\n",
       "      <td>443</td>\n",
       "      <td>6</td>\n",
       "      <td>16/06/2017 03:55:58</td>\n",
       "      <td>178727</td>\n",
       "      <td>6</td>\n",
       "      <td>7</td>\n",
       "      <td>...</td>\n",
       "      <td>32</td>\n",
       "      <td>0.0</td>\n",
       "      <td>0.0</td>\n",
       "      <td>0.0</td>\n",
       "      <td>0.0</td>\n",
       "      <td>0.0</td>\n",
       "      <td>0.0</td>\n",
       "      <td>0.0</td>\n",
       "      <td>0.0</td>\n",
       "      <td>0</td>\n",
       "    </tr>\n",
       "  </tbody>\n",
       "</table>\n",
       "<p>5 rows × 85 columns</p>\n",
       "</div>"
      ],
      "text/plain": [
       "                                  Flow ID    Source IP   Source Port  \\\n",
       "0   172.217.2.174-10.42.0.211-443-51023-6  10.42.0.211         51023   \n",
       "1   172.217.2.174-10.42.0.211-443-51023-6  10.42.0.211         51023   \n",
       "2  172.217.12.174-10.42.0.211-443-34259-6  10.42.0.211         34259   \n",
       "3   172.217.10.74-10.42.0.211-443-55509-6  10.42.0.211         55509   \n",
       "4   172.217.2.174-10.42.0.211-443-44852-6  10.42.0.211         44852   \n",
       "\n",
       "   Destination IP   Destination Port   Protocol            Timestamp  \\\n",
       "0   172.217.2.174                443          6  16/06/2017 03:55:47   \n",
       "1   172.217.2.174                443          6  16/06/2017 03:55:47   \n",
       "2  172.217.12.174                443          6  16/06/2017 03:55:52   \n",
       "3   172.217.10.74                443          6  16/06/2017 03:55:53   \n",
       "4   172.217.2.174                443          6  16/06/2017 03:55:58   \n",
       "\n",
       "    Flow Duration   Total Fwd Packets   Total Backward Packets  ...  \\\n",
       "0          151054                   6                        8  ...   \n",
       "1             349                   2                        0  ...   \n",
       "2             119                   2                        0  ...   \n",
       "3           37055                   1                        1  ...   \n",
       "4          178727                   6                        7  ...   \n",
       "\n",
       "    min_seg_size_forward  Active Mean   Active Std   Active Max   Active Min  \\\n",
       "0                     32          0.0          0.0          0.0          0.0   \n",
       "1                     32          0.0          0.0          0.0          0.0   \n",
       "2                     32          0.0          0.0          0.0          0.0   \n",
       "3                     32          0.0          0.0          0.0          0.0   \n",
       "4                     32          0.0          0.0          0.0          0.0   \n",
       "\n",
       "   Idle Mean   Idle Std   Idle Max   Idle Min  Label  \n",
       "0        0.0        0.0        0.0        0.0      0  \n",
       "1        0.0        0.0        0.0        0.0      0  \n",
       "2        0.0        0.0        0.0        0.0      0  \n",
       "3        0.0        0.0        0.0        0.0      0  \n",
       "4        0.0        0.0        0.0        0.0      0  \n",
       "\n",
       "[5 rows x 85 columns]"
      ]
     },
     "execution_count": 2,
     "metadata": {},
     "output_type": "execute_result"
    }
   ],
   "source": [
    "#load dataframe\n",
    "data = pd.read_csv('RanBenign_set.csv', index_col=0)\n",
    "data.head()"
   ]
  },
  {
   "cell_type": "code",
   "execution_count": 3,
   "id": "3df66fbb",
   "metadata": {},
   "outputs": [
    {
     "name": "stdout",
     "output_type": "stream",
     "text": [
      "1    348943\n",
      "0    249245\n",
      "Name: Label, dtype: int64\n"
     ]
    }
   ],
   "source": [
    "#check class counts\n",
    "sizes = data['Label'].value_counts(sort=1)\n",
    "print(sizes)"
   ]
  },
  {
   "cell_type": "code",
   "execution_count": 4,
   "id": "78b98057",
   "metadata": {},
   "outputs": [],
   "source": [
    "#eliminating unimportant and duplicate columns \n",
    "data=data.drop([' Timestamp', 'Flow ID', ' Source IP' ], axis=1)\n",
    "data=data.drop([' Destination IP', ' Fwd Header Length.1'  ], axis=1)\n",
    "#eliminating constant columns\n",
    "data=data.drop([' Bwd PSH Flags', ' Fwd URG Flags', ' Bwd URG Flags' ], axis=1)\n",
    "data=data.drop([' RST Flag Count', ' CWE Flag Count', ' ECE Flag Count'  ], axis=1)\n",
    "data=data.drop(['Fwd Avg Bytes/Bulk', ' Fwd Avg Packets/Bulk', ' Fwd Avg Bulk Rate' ], axis=1)\n",
    "data=data.drop([' Bwd Avg Bytes/Bulk', ' Bwd Avg Packets/Bulk', 'Bwd Avg Bulk Rate'  ], axis=1)"
   ]
  },
  {
   "cell_type": "code",
   "execution_count": 5,
   "id": "5c150547",
   "metadata": {},
   "outputs": [
    {
     "data": {
      "text/plain": [
       " Source Port          0\n",
       " Destination Port     0\n",
       " Protocol             0\n",
       " Flow Duration        0\n",
       " Total Fwd Packets    0\n",
       "                     ..\n",
       "Idle Mean             0\n",
       " Idle Std             0\n",
       " Idle Max             0\n",
       " Idle Min             0\n",
       "Label                 0\n",
       "Length: 68, dtype: int64"
      ]
     },
     "execution_count": 5,
     "metadata": {},
     "output_type": "execute_result"
    }
   ],
   "source": [
    "#check null values\n",
    "data.isnull().sum()"
   ]
  },
  {
   "cell_type": "code",
   "execution_count": 6,
   "id": "231e218e",
   "metadata": {},
   "outputs": [
    {
     "name": "stdout",
     "output_type": "stream",
     "text": [
      "<class 'pandas.core.frame.DataFrame'>\n",
      "Int64Index: 598188 entries, 0 to 598187\n",
      "Data columns (total 68 columns):\n",
      " #   Column                        Non-Null Count   Dtype  \n",
      "---  ------                        --------------   -----  \n",
      " 0    Source Port                  598188 non-null  int64  \n",
      " 1    Destination Port             598188 non-null  int64  \n",
      " 2    Protocol                     598188 non-null  int64  \n",
      " 3    Flow Duration                598188 non-null  int64  \n",
      " 4    Total Fwd Packets            598188 non-null  int64  \n",
      " 5    Total Backward Packets       598188 non-null  int64  \n",
      " 6   Total Length of Fwd Packets   598188 non-null  float64\n",
      " 7    Total Length of Bwd Packets  598188 non-null  float64\n",
      " 8    Fwd Packet Length Max        598188 non-null  float64\n",
      " 9    Fwd Packet Length Min        598188 non-null  float64\n",
      " 10   Fwd Packet Length Mean       598188 non-null  float64\n",
      " 11   Fwd Packet Length Std        598188 non-null  float64\n",
      " 12  Bwd Packet Length Max         598188 non-null  float64\n",
      " 13   Bwd Packet Length Min        598188 non-null  float64\n",
      " 14   Bwd Packet Length Mean       598188 non-null  float64\n",
      " 15   Bwd Packet Length Std        598188 non-null  float64\n",
      " 16  Flow Bytes/s                  598188 non-null  float64\n",
      " 17   Flow Packets/s               598188 non-null  float64\n",
      " 18   Flow IAT Mean                598188 non-null  float64\n",
      " 19   Flow IAT Std                 598188 non-null  float64\n",
      " 20   Flow IAT Max                 598188 non-null  float64\n",
      " 21   Flow IAT Min                 598188 non-null  float64\n",
      " 22  Fwd IAT Total                 598188 non-null  float64\n",
      " 23   Fwd IAT Mean                 598188 non-null  float64\n",
      " 24   Fwd IAT Std                  598188 non-null  float64\n",
      " 25   Fwd IAT Max                  598188 non-null  float64\n",
      " 26   Fwd IAT Min                  598188 non-null  float64\n",
      " 27  Bwd IAT Total                 598188 non-null  float64\n",
      " 28   Bwd IAT Mean                 598188 non-null  float64\n",
      " 29   Bwd IAT Std                  598188 non-null  float64\n",
      " 30   Bwd IAT Max                  598188 non-null  float64\n",
      " 31   Bwd IAT Min                  598188 non-null  float64\n",
      " 32  Fwd PSH Flags                 598188 non-null  int64  \n",
      " 33   Fwd Header Length            598188 non-null  int64  \n",
      " 34   Bwd Header Length            598188 non-null  int64  \n",
      " 35  Fwd Packets/s                 598188 non-null  float64\n",
      " 36   Bwd Packets/s                598188 non-null  float64\n",
      " 37   Min Packet Length            598188 non-null  float64\n",
      " 38   Max Packet Length            598188 non-null  float64\n",
      " 39   Packet Length Mean           598188 non-null  float64\n",
      " 40   Packet Length Std            598188 non-null  float64\n",
      " 41   Packet Length Variance       598188 non-null  float64\n",
      " 42  FIN Flag Count                598188 non-null  int64  \n",
      " 43   SYN Flag Count               598188 non-null  int64  \n",
      " 44   PSH Flag Count               598188 non-null  int64  \n",
      " 45   ACK Flag Count               598188 non-null  int64  \n",
      " 46   URG Flag Count               598188 non-null  int64  \n",
      " 47   Down/Up Ratio                598188 non-null  float64\n",
      " 48   Average Packet Size          598188 non-null  float64\n",
      " 49   Avg Fwd Segment Size         598188 non-null  float64\n",
      " 50   Avg Bwd Segment Size         598188 non-null  float64\n",
      " 51  Subflow Fwd Packets           598188 non-null  int64  \n",
      " 52   Subflow Fwd Bytes            598188 non-null  int64  \n",
      " 53   Subflow Bwd Packets          598188 non-null  int64  \n",
      " 54   Subflow Bwd Bytes            598188 non-null  int64  \n",
      " 55  Init_Win_bytes_forward        598188 non-null  int64  \n",
      " 56   Init_Win_bytes_backward      598188 non-null  int64  \n",
      " 57   act_data_pkt_fwd             598188 non-null  int64  \n",
      " 58   min_seg_size_forward         598188 non-null  int64  \n",
      " 59  Active Mean                   598188 non-null  float64\n",
      " 60   Active Std                   598188 non-null  float64\n",
      " 61   Active Max                   598188 non-null  float64\n",
      " 62   Active Min                   598188 non-null  float64\n",
      " 63  Idle Mean                     598188 non-null  float64\n",
      " 64   Idle Std                     598188 non-null  float64\n",
      " 65   Idle Max                     598188 non-null  float64\n",
      " 66   Idle Min                     598188 non-null  float64\n",
      " 67  Label                         598188 non-null  int64  \n",
      "dtypes: float64(45), int64(23)\n",
      "memory usage: 314.9 MB\n"
     ]
    }
   ],
   "source": [
    "data.info()"
   ]
  },
  {
   "cell_type": "code",
   "execution_count": 7,
   "id": "9f021f93",
   "metadata": {},
   "outputs": [],
   "source": [
    "data= data[['Init_Win_bytes_forward', ' Init_Win_bytes_backward', ' Source Port', ' Flow IAT Max', ' Flow IAT Min', ' Flow Duration', ' Flow IAT Mean', ' Fwd IAT Min', ' Fwd Packet Length Max', ' Packet Length Std', 'Fwd IAT Total', ' Fwd Packet Length Std', ' Fwd IAT Std', 'Total Length of Fwd Packets', ' Packet Length Variance', ' Max Packet Length', ' Protocol', ' Fwd Packet Length Mean', ' Bwd Packet Length Mean', 'Fwd Packets/s', ' Avg Fwd Segment Size', 'Bwd Packet Length Max', ' Total Length of Bwd Packets', ' Destination Port', ' PSH Flag Count', ' Bwd Packet Length Std', ' Bwd Packet Length Min', ' Average Packet Size', ' Min Packet Length', ' act_data_pkt_fwd','Label']]"
   ]
  },
  {
   "cell_type": "code",
   "execution_count": 8,
   "id": "bbd99c38",
   "metadata": {},
   "outputs": [
    {
     "data": {
      "text/html": [
       "<div>\n",
       "<style scoped>\n",
       "    .dataframe tbody tr th:only-of-type {\n",
       "        vertical-align: middle;\n",
       "    }\n",
       "\n",
       "    .dataframe tbody tr th {\n",
       "        vertical-align: top;\n",
       "    }\n",
       "\n",
       "    .dataframe thead th {\n",
       "        text-align: right;\n",
       "    }\n",
       "</style>\n",
       "<table border=\"1\" class=\"dataframe\">\n",
       "  <thead>\n",
       "    <tr style=\"text-align: right;\">\n",
       "      <th></th>\n",
       "      <th>Init_Win_bytes_forward</th>\n",
       "      <th>Init_Win_bytes_backward</th>\n",
       "      <th>Source Port</th>\n",
       "      <th>Flow IAT Max</th>\n",
       "      <th>Flow IAT Min</th>\n",
       "      <th>Flow Duration</th>\n",
       "      <th>Flow IAT Mean</th>\n",
       "      <th>Fwd IAT Min</th>\n",
       "      <th>Fwd Packet Length Max</th>\n",
       "      <th>Packet Length Std</th>\n",
       "      <th>...</th>\n",
       "      <th>Bwd Packet Length Max</th>\n",
       "      <th>Total Length of Bwd Packets</th>\n",
       "      <th>Destination Port</th>\n",
       "      <th>PSH Flag Count</th>\n",
       "      <th>Bwd Packet Length Std</th>\n",
       "      <th>Bwd Packet Length Min</th>\n",
       "      <th>Average Packet Size</th>\n",
       "      <th>Min Packet Length</th>\n",
       "      <th>act_data_pkt_fwd</th>\n",
       "      <th>Label</th>\n",
       "    </tr>\n",
       "  </thead>\n",
       "  <tbody>\n",
       "    <tr>\n",
       "      <th>0</th>\n",
       "      <td>65535</td>\n",
       "      <td>353</td>\n",
       "      <td>51023</td>\n",
       "      <td>49105.0</td>\n",
       "      <td>24.0</td>\n",
       "      <td>151054</td>\n",
       "      <td>11619.538462</td>\n",
       "      <td>111.0</td>\n",
       "      <td>821.0</td>\n",
       "      <td>562.514948</td>\n",
       "      <td>...</td>\n",
       "      <td>1418.0</td>\n",
       "      <td>4575.0</td>\n",
       "      <td>443</td>\n",
       "      <td>1</td>\n",
       "      <td>679.532284</td>\n",
       "      <td>0.0</td>\n",
       "      <td>403.642857</td>\n",
       "      <td>0.0</td>\n",
       "      <td>3</td>\n",
       "      <td>0</td>\n",
       "    </tr>\n",
       "    <tr>\n",
       "      <th>1</th>\n",
       "      <td>1594</td>\n",
       "      <td>-1</td>\n",
       "      <td>51023</td>\n",
       "      <td>349.0</td>\n",
       "      <td>349.0</td>\n",
       "      <td>349</td>\n",
       "      <td>349.000000</td>\n",
       "      <td>349.0</td>\n",
       "      <td>23.0</td>\n",
       "      <td>13.279056</td>\n",
       "      <td>...</td>\n",
       "      <td>0.0</td>\n",
       "      <td>0.0</td>\n",
       "      <td>443</td>\n",
       "      <td>0</td>\n",
       "      <td>0.000000</td>\n",
       "      <td>0.0</td>\n",
       "      <td>23.000000</td>\n",
       "      <td>0.0</td>\n",
       "      <td>0</td>\n",
       "      <td>0</td>\n",
       "    </tr>\n",
       "    <tr>\n",
       "      <th>2</th>\n",
       "      <td>1486</td>\n",
       "      <td>-1</td>\n",
       "      <td>34259</td>\n",
       "      <td>119.0</td>\n",
       "      <td>119.0</td>\n",
       "      <td>119</td>\n",
       "      <td>119.000000</td>\n",
       "      <td>119.0</td>\n",
       "      <td>23.0</td>\n",
       "      <td>13.279056</td>\n",
       "      <td>...</td>\n",
       "      <td>0.0</td>\n",
       "      <td>0.0</td>\n",
       "      <td>443</td>\n",
       "      <td>0</td>\n",
       "      <td>0.000000</td>\n",
       "      <td>0.0</td>\n",
       "      <td>23.000000</td>\n",
       "      <td>0.0</td>\n",
       "      <td>0</td>\n",
       "      <td>0</td>\n",
       "    </tr>\n",
       "    <tr>\n",
       "      <th>3</th>\n",
       "      <td>1548</td>\n",
       "      <td>391</td>\n",
       "      <td>55509</td>\n",
       "      <td>37055.0</td>\n",
       "      <td>37055.0</td>\n",
       "      <td>37055</td>\n",
       "      <td>37055.000000</td>\n",
       "      <td>0.0</td>\n",
       "      <td>31.0</td>\n",
       "      <td>17.897858</td>\n",
       "      <td>...</td>\n",
       "      <td>0.0</td>\n",
       "      <td>0.0</td>\n",
       "      <td>443</td>\n",
       "      <td>0</td>\n",
       "      <td>0.000000</td>\n",
       "      <td>0.0</td>\n",
       "      <td>31.000000</td>\n",
       "      <td>0.0</td>\n",
       "      <td>0</td>\n",
       "      <td>0</td>\n",
       "    </tr>\n",
       "    <tr>\n",
       "      <th>4</th>\n",
       "      <td>65535</td>\n",
       "      <td>352</td>\n",
       "      <td>44852</td>\n",
       "      <td>62243.0</td>\n",
       "      <td>55.0</td>\n",
       "      <td>178727</td>\n",
       "      <td>14893.916667</td>\n",
       "      <td>172.0</td>\n",
       "      <td>753.0</td>\n",
       "      <td>231.422833</td>\n",
       "      <td>...</td>\n",
       "      <td>168.0</td>\n",
       "      <td>307.0</td>\n",
       "      <td>443</td>\n",
       "      <td>1</td>\n",
       "      <td>75.366722</td>\n",
       "      <td>0.0</td>\n",
       "      <td>124.615385</td>\n",
       "      <td>0.0</td>\n",
       "      <td>3</td>\n",
       "      <td>0</td>\n",
       "    </tr>\n",
       "  </tbody>\n",
       "</table>\n",
       "<p>5 rows × 31 columns</p>\n",
       "</div>"
      ],
      "text/plain": [
       "   Init_Win_bytes_forward   Init_Win_bytes_backward   Source Port  \\\n",
       "0                   65535                       353         51023   \n",
       "1                    1594                        -1         51023   \n",
       "2                    1486                        -1         34259   \n",
       "3                    1548                       391         55509   \n",
       "4                   65535                       352         44852   \n",
       "\n",
       "    Flow IAT Max   Flow IAT Min   Flow Duration   Flow IAT Mean   Fwd IAT Min  \\\n",
       "0        49105.0           24.0          151054    11619.538462         111.0   \n",
       "1          349.0          349.0             349      349.000000         349.0   \n",
       "2          119.0          119.0             119      119.000000         119.0   \n",
       "3        37055.0        37055.0           37055    37055.000000           0.0   \n",
       "4        62243.0           55.0          178727    14893.916667         172.0   \n",
       "\n",
       "    Fwd Packet Length Max   Packet Length Std  ...  Bwd Packet Length Max  \\\n",
       "0                   821.0          562.514948  ...                 1418.0   \n",
       "1                    23.0           13.279056  ...                    0.0   \n",
       "2                    23.0           13.279056  ...                    0.0   \n",
       "3                    31.0           17.897858  ...                    0.0   \n",
       "4                   753.0          231.422833  ...                  168.0   \n",
       "\n",
       "    Total Length of Bwd Packets   Destination Port   PSH Flag Count  \\\n",
       "0                        4575.0                443                1   \n",
       "1                           0.0                443                0   \n",
       "2                           0.0                443                0   \n",
       "3                           0.0                443                0   \n",
       "4                         307.0                443                1   \n",
       "\n",
       "    Bwd Packet Length Std   Bwd Packet Length Min   Average Packet Size  \\\n",
       "0              679.532284                     0.0            403.642857   \n",
       "1                0.000000                     0.0             23.000000   \n",
       "2                0.000000                     0.0             23.000000   \n",
       "3                0.000000                     0.0             31.000000   \n",
       "4               75.366722                     0.0            124.615385   \n",
       "\n",
       "    Min Packet Length   act_data_pkt_fwd  Label  \n",
       "0                 0.0                  3      0  \n",
       "1                 0.0                  0      0  \n",
       "2                 0.0                  0      0  \n",
       "3                 0.0                  0      0  \n",
       "4                 0.0                  3      0  \n",
       "\n",
       "[5 rows x 31 columns]"
      ]
     },
     "execution_count": 8,
     "metadata": {},
     "output_type": "execute_result"
    }
   ],
   "source": [
    "data.head()"
   ]
  },
  {
   "cell_type": "code",
   "execution_count": 9,
   "id": "b5b501d1",
   "metadata": {},
   "outputs": [
    {
     "data": {
      "text/plain": [
       "((598188, 30), (598188,))"
      ]
     },
     "execution_count": 9,
     "metadata": {},
     "output_type": "execute_result"
    }
   ],
   "source": [
    "# Separatating & assigning features and target columns to X & y\n",
    "\n",
    "y = data['Label']\n",
    "X = data.drop('Label',axis=1)\n",
    "X.shape, y.shape"
   ]
  },
  {
   "cell_type": "code",
   "execution_count": 10,
   "id": "c1769b32",
   "metadata": {},
   "outputs": [
    {
     "data": {
      "text/plain": [
       "((448641, 30), (149547, 30))"
      ]
     },
     "execution_count": 10,
     "metadata": {},
     "output_type": "execute_result"
    }
   ],
   "source": [
    "# Splitting the dataset into train and test sets: 75-25 split\n",
    "from sklearn.model_selection import train_test_split\n",
    "\n",
    "X_train, X_test, y_train, y_test = train_test_split(X, y,test_size = 0.25, random_state = 100)\n",
    "X_train.shape, X_test.shape"
   ]
  },
  {
   "cell_type": "code",
   "execution_count": 11,
   "id": "7671e46f",
   "metadata": {},
   "outputs": [],
   "source": [
    "from sklearn.preprocessing import MinMaxScaler\n",
    "\n",
    "scaler = MinMaxScaler()\n",
    "\n",
    "X_train_scaled = scaler.fit_transform(X_train)\n",
    "X_test_scaled = scaler.transform(X_test)"
   ]
  },
  {
   "cell_type": "code",
   "execution_count": 12,
   "id": "136331c1",
   "metadata": {},
   "outputs": [],
   "source": [
    "model = GaussianNB()"
   ]
  },
  {
   "cell_type": "code",
   "execution_count": 13,
   "id": "85b8be1f",
   "metadata": {},
   "outputs": [
    {
     "name": "stdout",
     "output_type": "stream",
     "text": [
      "CPU times: total: 547 ms\n",
      "Wall time: 548 ms\n"
     ]
    },
    {
     "data": {
      "text/plain": [
       "GaussianNB()"
      ]
     },
     "execution_count": 13,
     "metadata": {},
     "output_type": "execute_result"
    }
   ],
   "source": [
    "%%time\n",
    "model.fit(X_train, y_train)"
   ]
  },
  {
   "cell_type": "code",
   "execution_count": 14,
   "id": "5916997c",
   "metadata": {},
   "outputs": [],
   "source": [
    "y_pred = model.predict(X_test)"
   ]
  },
  {
   "cell_type": "code",
   "execution_count": 15,
   "id": "a7015aa7",
   "metadata": {},
   "outputs": [
    {
     "data": {
      "text/plain": [
       "array([1, 0, 0, ..., 0, 0, 1], dtype=int64)"
      ]
     },
     "execution_count": 15,
     "metadata": {},
     "output_type": "execute_result"
    }
   ],
   "source": [
    "y_pred"
   ]
  },
  {
   "cell_type": "code",
   "execution_count": 16,
   "id": "f4d31104",
   "metadata": {},
   "outputs": [
    {
     "data": {
      "text/plain": [
       "0.4671374216801407"
      ]
     },
     "execution_count": 16,
     "metadata": {},
     "output_type": "execute_result"
    }
   ],
   "source": [
    "from sklearn.metrics import accuracy_score\n",
    "accuracy_score(y_test, y_pred)"
   ]
  },
  {
   "cell_type": "code",
   "execution_count": 17,
   "id": "413ec557",
   "metadata": {},
   "outputs": [
    {
     "name": "stdout",
     "output_type": "stream",
     "text": [
      "              precision    recall  f1-score   support\n",
      "\n",
      "           0       0.42      0.74      0.53     62023\n",
      "           1       0.60      0.28      0.38     87524\n",
      "\n",
      "    accuracy                           0.47    149547\n",
      "   macro avg       0.51      0.51      0.46    149547\n",
      "weighted avg       0.52      0.47      0.44    149547\n",
      "\n"
     ]
    }
   ],
   "source": [
    "from sklearn.metrics import classification_report\n",
    "print(classification_report(y_test, y_pred))"
   ]
  },
  {
   "cell_type": "code",
   "execution_count": 18,
   "id": "b5126a6a",
   "metadata": {},
   "outputs": [
    {
     "data": {
      "image/png": "[encoded data removed]",
      "text/plain": [
       "<Figure size 360x360 with 2 Axes>"
      ]
     },
     "metadata": {
      "needs_background": "light"
     },
     "output_type": "display_data"
    }
   ],
   "source": [
    "from sklearn.metrics import confusion_matrix\n",
    "cm=confusion_matrix(y_test,y_pred)\n",
    "f,ax=plt.subplots(figsize=(5,5))\n",
    "sns.heatmap(cm,annot=True,linewidth=0.5,linecolor=\"red\",fmt=\".0f\",ax=ax)\n",
    "plt.xlabel(\"y_pred\")\n",
    "plt.ylabel(\"y_true\")\n",
    "plt.show()"
   ]
  },
  {
   "cell_type": "code",
   "execution_count": null,
   "id": "8f38f6ea",
   "metadata": {},
   "outputs": [],
   "source": []
  }
 ],
 "metadata": {
  "kernelspec": {
   "display_name": "Python 3 (ipykernel)",
   "language": "python",
   "name": "python3"
  },
  "language_info": {
   "codemirror_mode": {
    "name": "ipython",
    "version": 3
   },
   "file_extension": ".py",
   "mimetype": "text/x-python",
   "name": "python",
   "nbconvert_exporter": "python",
   "pygments_lexer": "ipython3",
   "version": "3.9.12"
  }
 },
 "nbformat": 4,
 "nbformat_minor": 5
}
