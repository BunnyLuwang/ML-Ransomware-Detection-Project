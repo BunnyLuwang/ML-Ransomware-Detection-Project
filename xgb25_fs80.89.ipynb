{
 "cells": [
  {
   "cell_type": "code",
   "execution_count": 1,
   "id": "5decf007",
   "metadata": {},
   "outputs": [],
   "source": [
    "#importing basic packages\n",
    "import pandas as pd\n",
    "import numpy as np\n",
    "import seaborn as sns\n",
    "import matplotlib.pyplot as plt"
   ]
  },
  {
   "cell_type": "code",
   "execution_count": 2,
   "id": "268dc402",
   "metadata": {},
   "outputs": [
    {
     "data": {
      "text/html": [
       "<div>\n",
       "<style scoped>\n",
       "    .dataframe tbody tr th:only-of-type {\n",
       "        vertical-align: middle;\n",
       "    }\n",
       "\n",
       "    .dataframe tbody tr th {\n",
       "        vertical-align: top;\n",
       "    }\n",
       "\n",
       "    .dataframe thead th {\n",
       "        text-align: right;\n",
       "    }\n",
       "</style>\n",
       "<table border=\"1\" class=\"dataframe\">\n",
       "  <thead>\n",
       "    <tr style=\"text-align: right;\">\n",
       "      <th></th>\n",
       "      <th>Flow ID</th>\n",
       "      <th>Source IP</th>\n",
       "      <th>Source Port</th>\n",
       "      <th>Destination IP</th>\n",
       "      <th>Destination Port</th>\n",
       "      <th>Protocol</th>\n",
       "      <th>Timestamp</th>\n",
       "      <th>Flow Duration</th>\n",
       "      <th>Total Fwd Packets</th>\n",
       "      <th>Total Backward Packets</th>\n",
       "      <th>...</th>\n",
       "      <th>min_seg_size_forward</th>\n",
       "      <th>Active Mean</th>\n",
       "      <th>Active Std</th>\n",
       "      <th>Active Max</th>\n",
       "      <th>Active Min</th>\n",
       "      <th>Idle Mean</th>\n",
       "      <th>Idle Std</th>\n",
       "      <th>Idle Max</th>\n",
       "      <th>Idle Min</th>\n",
       "      <th>Label</th>\n",
       "    </tr>\n",
       "  </thead>\n",
       "  <tbody>\n",
       "    <tr>\n",
       "      <th>0</th>\n",
       "      <td>172.217.2.174-10.42.0.211-443-51023-6</td>\n",
       "      <td>10.42.0.211</td>\n",
       "      <td>51023</td>\n",
       "      <td>172.217.2.174</td>\n",
       "      <td>443</td>\n",
       "      <td>6</td>\n",
       "      <td>16/06/2017 03:55:47</td>\n",
       "      <td>151054</td>\n",
       "      <td>6</td>\n",
       "      <td>8</td>\n",
       "      <td>...</td>\n",
       "      <td>32</td>\n",
       "      <td>0.0</td>\n",
       "      <td>0.0</td>\n",
       "      <td>0.0</td>\n",
       "      <td>0.0</td>\n",
       "      <td>0.0</td>\n",
       "      <td>0.0</td>\n",
       "      <td>0.0</td>\n",
       "      <td>0.0</td>\n",
       "      <td>0</td>\n",
       "    </tr>\n",
       "    <tr>\n",
       "      <th>1</th>\n",
       "      <td>172.217.2.174-10.42.0.211-443-51023-6</td>\n",
       "      <td>10.42.0.211</td>\n",
       "      <td>51023</td>\n",
       "      <td>172.217.2.174</td>\n",
       "      <td>443</td>\n",
       "      <td>6</td>\n",
       "      <td>16/06/2017 03:55:47</td>\n",
       "      <td>349</td>\n",
       "      <td>2</td>\n",
       "      <td>0</td>\n",
       "      <td>...</td>\n",
       "      <td>32</td>\n",
       "      <td>0.0</td>\n",
       "      <td>0.0</td>\n",
       "      <td>0.0</td>\n",
       "      <td>0.0</td>\n",
       "      <td>0.0</td>\n",
       "      <td>0.0</td>\n",
       "      <td>0.0</td>\n",
       "      <td>0.0</td>\n",
       "      <td>0</td>\n",
       "    </tr>\n",
       "    <tr>\n",
       "      <th>2</th>\n",
       "      <td>172.217.12.174-10.42.0.211-443-34259-6</td>\n",
       "      <td>10.42.0.211</td>\n",
       "      <td>34259</td>\n",
       "      <td>172.217.12.174</td>\n",
       "      <td>443</td>\n",
       "      <td>6</td>\n",
       "      <td>16/06/2017 03:55:52</td>\n",
       "      <td>119</td>\n",
       "      <td>2</td>\n",
       "      <td>0</td>\n",
       "      <td>...</td>\n",
       "      <td>32</td>\n",
       "      <td>0.0</td>\n",
       "      <td>0.0</td>\n",
       "      <td>0.0</td>\n",
       "      <td>0.0</td>\n",
       "      <td>0.0</td>\n",
       "      <td>0.0</td>\n",
       "      <td>0.0</td>\n",
       "      <td>0.0</td>\n",
       "      <td>0</td>\n",
       "    </tr>\n",
       "    <tr>\n",
       "      <th>3</th>\n",
       "      <td>172.217.10.74-10.42.0.211-443-55509-6</td>\n",
       "      <td>10.42.0.211</td>\n",
       "      <td>55509</td>\n",
       "      <td>172.217.10.74</td>\n",
       "      <td>443</td>\n",
       "      <td>6</td>\n",
       "      <td>16/06/2017 03:55:53</td>\n",
       "      <td>37055</td>\n",
       "      <td>1</td>\n",
       "      <td>1</td>\n",
       "      <td>...</td>\n",
       "      <td>32</td>\n",
       "      <td>0.0</td>\n",
       "      <td>0.0</td>\n",
       "      <td>0.0</td>\n",
       "      <td>0.0</td>\n",
       "      <td>0.0</td>\n",
       "      <td>0.0</td>\n",
       "      <td>0.0</td>\n",
       "      <td>0.0</td>\n",
       "      <td>0</td>\n",
       "    </tr>\n",
       "    <tr>\n",
       "      <th>4</th>\n",
       "      <td>172.217.2.174-10.42.0.211-443-44852-6</td>\n",
       "      <td>10.42.0.211</td>\n",
       "      <td>44852</td>\n",
       "      <td>172.217.2.174</td>\n",
       "      <td>443</td>\n",
       "      <td>6</td>\n",
       "      <td>16/06/2017 03:55:58</td>\n",
       "      <td>178727</td>\n",
       "      <td>6</td>\n",
       "      <td>7</td>\n",
       "      <td>...</td>\n",
       "      <td>32</td>\n",
       "      <td>0.0</td>\n",
       "      <td>0.0</td>\n",
       "      <td>0.0</td>\n",
       "      <td>0.0</td>\n",
       "      <td>0.0</td>\n",
       "      <td>0.0</td>\n",
       "      <td>0.0</td>\n",
       "      <td>0.0</td>\n",
       "      <td>0</td>\n",
       "    </tr>\n",
       "  </tbody>\n",
       "</table>\n",
       "<p>5 rows × 85 columns</p>\n",
       "</div>"
      ],
      "text/plain": [
       "                                  Flow ID    Source IP   Source Port  \\\n",
       "0   172.217.2.174-10.42.0.211-443-51023-6  10.42.0.211         51023   \n",
       "1   172.217.2.174-10.42.0.211-443-51023-6  10.42.0.211         51023   \n",
       "2  172.217.12.174-10.42.0.211-443-34259-6  10.42.0.211         34259   \n",
       "3   172.217.10.74-10.42.0.211-443-55509-6  10.42.0.211         55509   \n",
       "4   172.217.2.174-10.42.0.211-443-44852-6  10.42.0.211         44852   \n",
       "\n",
       "   Destination IP   Destination Port   Protocol            Timestamp  \\\n",
       "0   172.217.2.174                443          6  16/06/2017 03:55:47   \n",
       "1   172.217.2.174                443          6  16/06/2017 03:55:47   \n",
       "2  172.217.12.174                443          6  16/06/2017 03:55:52   \n",
       "3   172.217.10.74                443          6  16/06/2017 03:55:53   \n",
       "4   172.217.2.174                443          6  16/06/2017 03:55:58   \n",
       "\n",
       "    Flow Duration   Total Fwd Packets   Total Backward Packets  ...  \\\n",
       "0          151054                   6                        8  ...   \n",
       "1             349                   2                        0  ...   \n",
       "2             119                   2                        0  ...   \n",
       "3           37055                   1                        1  ...   \n",
       "4          178727                   6                        7  ...   \n",
       "\n",
       "    min_seg_size_forward  Active Mean   Active Std   Active Max   Active Min  \\\n",
       "0                     32          0.0          0.0          0.0          0.0   \n",
       "1                     32          0.0          0.0          0.0          0.0   \n",
       "2                     32          0.0          0.0          0.0          0.0   \n",
       "3                     32          0.0          0.0          0.0          0.0   \n",
       "4                     32          0.0          0.0          0.0          0.0   \n",
       "\n",
       "   Idle Mean   Idle Std   Idle Max   Idle Min  Label  \n",
       "0        0.0        0.0        0.0        0.0      0  \n",
       "1        0.0        0.0        0.0        0.0      0  \n",
       "2        0.0        0.0        0.0        0.0      0  \n",
       "3        0.0        0.0        0.0        0.0      0  \n",
       "4        0.0        0.0        0.0        0.0      0  \n",
       "\n",
       "[5 rows x 85 columns]"
      ]
     },
     "execution_count": 2,
     "metadata": {},
     "output_type": "execute_result"
    }
   ],
   "source": [
    "#load dataframe\n",
    "data = pd.read_csv('RanBenign_set.csv', index_col=0)\n",
    "data.head()"
   ]
  },
  {
   "cell_type": "code",
   "execution_count": 3,
   "id": "ab476271",
   "metadata": {},
   "outputs": [
    {
     "name": "stdout",
     "output_type": "stream",
     "text": [
      "1    348943\n",
      "0    249245\n",
      "Name: Label, dtype: int64\n"
     ]
    }
   ],
   "source": [
    "#check class counts\n",
    "sizes = data['Label'].value_counts(sort=1)\n",
    "print(sizes)"
   ]
  },
  {
   "cell_type": "code",
   "execution_count": 4,
   "id": "4aea6a78",
   "metadata": {},
   "outputs": [],
   "source": [
    "#eliminating unimportant and duplicate columns \n",
    "data=data.drop([' Timestamp', 'Flow ID', ' Source IP' ], axis=1)\n",
    "data=data.drop([' Destination IP', ' Fwd Header Length.1'  ], axis=1)\n",
    "#eliminating constant columns\n",
    "data=data.drop([' Bwd PSH Flags', ' Fwd URG Flags', ' Bwd URG Flags' ], axis=1)\n",
    "data=data.drop([' RST Flag Count', ' CWE Flag Count', ' ECE Flag Count'  ], axis=1)\n",
    "data=data.drop(['Fwd Avg Bytes/Bulk', ' Fwd Avg Packets/Bulk', ' Fwd Avg Bulk Rate' ], axis=1)\n",
    "data=data.drop([' Bwd Avg Bytes/Bulk', ' Bwd Avg Packets/Bulk', 'Bwd Avg Bulk Rate'  ], axis=1)"
   ]
  },
  {
   "cell_type": "code",
   "execution_count": 5,
   "id": "c92373a4",
   "metadata": {},
   "outputs": [],
   "source": [
    "data= data[['Init_Win_bytes_forward', ' Init_Win_bytes_backward', ' Source Port', ' Flow IAT Max', ' Flow IAT Min', ' Flow Duration', ' Flow IAT Mean', ' Fwd IAT Min', ' Fwd Packet Length Max', ' Packet Length Std', 'Fwd IAT Total', ' Fwd Packet Length Std', ' Fwd IAT Std', 'Total Length of Fwd Packets', ' Max Packet Length', ' Protocol', ' Bwd Packet Length Mean', 'Bwd Packet Length Max', ' Total Length of Bwd Packets', ' Destination Port', ' PSH Flag Count', ' Bwd Packet Length Min', ' Average Packet Size', ' Min Packet Length', ' act_data_pkt_fwd','Label']]"
   ]
  },
  {
   "cell_type": "code",
   "execution_count": 6,
   "id": "4c6f1b78",
   "metadata": {},
   "outputs": [
    {
     "data": {
      "text/html": [
       "<div>\n",
       "<style scoped>\n",
       "    .dataframe tbody tr th:only-of-type {\n",
       "        vertical-align: middle;\n",
       "    }\n",
       "\n",
       "    .dataframe tbody tr th {\n",
       "        vertical-align: top;\n",
       "    }\n",
       "\n",
       "    .dataframe thead th {\n",
       "        text-align: right;\n",
       "    }\n",
       "</style>\n",
       "<table border=\"1\" class=\"dataframe\">\n",
       "  <thead>\n",
       "    <tr style=\"text-align: right;\">\n",
       "      <th></th>\n",
       "      <th>Init_Win_bytes_forward</th>\n",
       "      <th>Init_Win_bytes_backward</th>\n",
       "      <th>Source Port</th>\n",
       "      <th>Flow IAT Max</th>\n",
       "      <th>Flow IAT Min</th>\n",
       "      <th>Flow Duration</th>\n",
       "      <th>Flow IAT Mean</th>\n",
       "      <th>Fwd IAT Min</th>\n",
       "      <th>Fwd Packet Length Max</th>\n",
       "      <th>Packet Length Std</th>\n",
       "      <th>...</th>\n",
       "      <th>Bwd Packet Length Mean</th>\n",
       "      <th>Bwd Packet Length Max</th>\n",
       "      <th>Total Length of Bwd Packets</th>\n",
       "      <th>Destination Port</th>\n",
       "      <th>PSH Flag Count</th>\n",
       "      <th>Bwd Packet Length Min</th>\n",
       "      <th>Average Packet Size</th>\n",
       "      <th>Min Packet Length</th>\n",
       "      <th>act_data_pkt_fwd</th>\n",
       "      <th>Label</th>\n",
       "    </tr>\n",
       "  </thead>\n",
       "  <tbody>\n",
       "    <tr>\n",
       "      <th>0</th>\n",
       "      <td>65535</td>\n",
       "      <td>353</td>\n",
       "      <td>51023</td>\n",
       "      <td>49105.0</td>\n",
       "      <td>24.0</td>\n",
       "      <td>151054</td>\n",
       "      <td>11619.538462</td>\n",
       "      <td>111.0</td>\n",
       "      <td>821.0</td>\n",
       "      <td>562.514948</td>\n",
       "      <td>...</td>\n",
       "      <td>571.875000</td>\n",
       "      <td>1418.0</td>\n",
       "      <td>4575.0</td>\n",
       "      <td>443</td>\n",
       "      <td>1</td>\n",
       "      <td>0.0</td>\n",
       "      <td>403.642857</td>\n",
       "      <td>0.0</td>\n",
       "      <td>3</td>\n",
       "      <td>0</td>\n",
       "    </tr>\n",
       "    <tr>\n",
       "      <th>1</th>\n",
       "      <td>1594</td>\n",
       "      <td>-1</td>\n",
       "      <td>51023</td>\n",
       "      <td>349.0</td>\n",
       "      <td>349.0</td>\n",
       "      <td>349</td>\n",
       "      <td>349.000000</td>\n",
       "      <td>349.0</td>\n",
       "      <td>23.0</td>\n",
       "      <td>13.279056</td>\n",
       "      <td>...</td>\n",
       "      <td>0.000000</td>\n",
       "      <td>0.0</td>\n",
       "      <td>0.0</td>\n",
       "      <td>443</td>\n",
       "      <td>0</td>\n",
       "      <td>0.0</td>\n",
       "      <td>23.000000</td>\n",
       "      <td>0.0</td>\n",
       "      <td>0</td>\n",
       "      <td>0</td>\n",
       "    </tr>\n",
       "    <tr>\n",
       "      <th>2</th>\n",
       "      <td>1486</td>\n",
       "      <td>-1</td>\n",
       "      <td>34259</td>\n",
       "      <td>119.0</td>\n",
       "      <td>119.0</td>\n",
       "      <td>119</td>\n",
       "      <td>119.000000</td>\n",
       "      <td>119.0</td>\n",
       "      <td>23.0</td>\n",
       "      <td>13.279056</td>\n",
       "      <td>...</td>\n",
       "      <td>0.000000</td>\n",
       "      <td>0.0</td>\n",
       "      <td>0.0</td>\n",
       "      <td>443</td>\n",
       "      <td>0</td>\n",
       "      <td>0.0</td>\n",
       "      <td>23.000000</td>\n",
       "      <td>0.0</td>\n",
       "      <td>0</td>\n",
       "      <td>0</td>\n",
       "    </tr>\n",
       "    <tr>\n",
       "      <th>3</th>\n",
       "      <td>1548</td>\n",
       "      <td>391</td>\n",
       "      <td>55509</td>\n",
       "      <td>37055.0</td>\n",
       "      <td>37055.0</td>\n",
       "      <td>37055</td>\n",
       "      <td>37055.000000</td>\n",
       "      <td>0.0</td>\n",
       "      <td>31.0</td>\n",
       "      <td>17.897858</td>\n",
       "      <td>...</td>\n",
       "      <td>0.000000</td>\n",
       "      <td>0.0</td>\n",
       "      <td>0.0</td>\n",
       "      <td>443</td>\n",
       "      <td>0</td>\n",
       "      <td>0.0</td>\n",
       "      <td>31.000000</td>\n",
       "      <td>0.0</td>\n",
       "      <td>0</td>\n",
       "      <td>0</td>\n",
       "    </tr>\n",
       "    <tr>\n",
       "      <th>4</th>\n",
       "      <td>65535</td>\n",
       "      <td>352</td>\n",
       "      <td>44852</td>\n",
       "      <td>62243.0</td>\n",
       "      <td>55.0</td>\n",
       "      <td>178727</td>\n",
       "      <td>14893.916667</td>\n",
       "      <td>172.0</td>\n",
       "      <td>753.0</td>\n",
       "      <td>231.422833</td>\n",
       "      <td>...</td>\n",
       "      <td>43.857143</td>\n",
       "      <td>168.0</td>\n",
       "      <td>307.0</td>\n",
       "      <td>443</td>\n",
       "      <td>1</td>\n",
       "      <td>0.0</td>\n",
       "      <td>124.615385</td>\n",
       "      <td>0.0</td>\n",
       "      <td>3</td>\n",
       "      <td>0</td>\n",
       "    </tr>\n",
       "  </tbody>\n",
       "</table>\n",
       "<p>5 rows × 26 columns</p>\n",
       "</div>"
      ],
      "text/plain": [
       "   Init_Win_bytes_forward   Init_Win_bytes_backward   Source Port  \\\n",
       "0                   65535                       353         51023   \n",
       "1                    1594                        -1         51023   \n",
       "2                    1486                        -1         34259   \n",
       "3                    1548                       391         55509   \n",
       "4                   65535                       352         44852   \n",
       "\n",
       "    Flow IAT Max   Flow IAT Min   Flow Duration   Flow IAT Mean   Fwd IAT Min  \\\n",
       "0        49105.0           24.0          151054    11619.538462         111.0   \n",
       "1          349.0          349.0             349      349.000000         349.0   \n",
       "2          119.0          119.0             119      119.000000         119.0   \n",
       "3        37055.0        37055.0           37055    37055.000000           0.0   \n",
       "4        62243.0           55.0          178727    14893.916667         172.0   \n",
       "\n",
       "    Fwd Packet Length Max   Packet Length Std  ...   Bwd Packet Length Mean  \\\n",
       "0                   821.0          562.514948  ...               571.875000   \n",
       "1                    23.0           13.279056  ...                 0.000000   \n",
       "2                    23.0           13.279056  ...                 0.000000   \n",
       "3                    31.0           17.897858  ...                 0.000000   \n",
       "4                   753.0          231.422833  ...                43.857143   \n",
       "\n",
       "   Bwd Packet Length Max   Total Length of Bwd Packets   Destination Port  \\\n",
       "0                 1418.0                        4575.0                443   \n",
       "1                    0.0                           0.0                443   \n",
       "2                    0.0                           0.0                443   \n",
       "3                    0.0                           0.0                443   \n",
       "4                  168.0                         307.0                443   \n",
       "\n",
       "    PSH Flag Count   Bwd Packet Length Min   Average Packet Size  \\\n",
       "0                1                     0.0            403.642857   \n",
       "1                0                     0.0             23.000000   \n",
       "2                0                     0.0             23.000000   \n",
       "3                0                     0.0             31.000000   \n",
       "4                1                     0.0            124.615385   \n",
       "\n",
       "    Min Packet Length   act_data_pkt_fwd  Label  \n",
       "0                 0.0                  3      0  \n",
       "1                 0.0                  0      0  \n",
       "2                 0.0                  0      0  \n",
       "3                 0.0                  0      0  \n",
       "4                 0.0                  3      0  \n",
       "\n",
       "[5 rows x 26 columns]"
      ]
     },
     "execution_count": 6,
     "metadata": {},
     "output_type": "execute_result"
    }
   ],
   "source": [
    "data.head()"
   ]
  },
  {
   "cell_type": "code",
   "execution_count": 7,
   "id": "cee06cdf",
   "metadata": {},
   "outputs": [
    {
     "data": {
      "text/plain": [
       "((598188, 25), (598188,))"
      ]
     },
     "execution_count": 7,
     "metadata": {},
     "output_type": "execute_result"
    }
   ],
   "source": [
    "# Separatating & assigning features and target columns to X & y\n",
    "\n",
    "y = data['Label']\n",
    "X = data.drop('Label',axis=1)\n",
    "X.shape, y.shape"
   ]
  },
  {
   "cell_type": "code",
   "execution_count": 8,
   "id": "68a84471",
   "metadata": {},
   "outputs": [
    {
     "data": {
      "text/plain": [
       "((448641, 25), (149547, 25))"
      ]
     },
     "execution_count": 8,
     "metadata": {},
     "output_type": "execute_result"
    }
   ],
   "source": [
    "# Splitting the dataset into train and test sets: 75-25 split\n",
    "from sklearn.model_selection import train_test_split\n",
    "\n",
    "X_train, X_test, y_train, y_test = train_test_split(X, y,test_size = 0.25, random_state = 100)\n",
    "X_train.shape, X_test.shape"
   ]
  },
  {
   "cell_type": "code",
   "execution_count": 9,
   "id": "f49cc8e2",
   "metadata": {},
   "outputs": [],
   "source": [
    "from sklearn.preprocessing import MinMaxScaler\n",
    "\n",
    "scaler = MinMaxScaler()\n",
    "\n",
    "X_train_scaled = scaler.fit_transform(X_train)\n",
    "X_test_scaled = scaler.transform(X_test)"
   ]
  },
  {
   "cell_type": "code",
   "execution_count": 10,
   "id": "23f90b01",
   "metadata": {},
   "outputs": [
    {
     "name": "stderr",
     "output_type": "stream",
     "text": [
      "C:\\Users\\Dell\\anaconda3\\lib\\site-packages\\xgboost\\compat.py:36: FutureWarning: pandas.Int64Index is deprecated and will be removed from pandas in a future version. Use pandas.Index with the appropriate dtype instead.\n",
      "  from pandas import MultiIndex, Int64Index\n"
     ]
    }
   ],
   "source": [
    "from xgboost import XGBClassifier\n",
    "\n",
    "params = {\n",
    "            'max_depth': 50,\n",
    "            'alpha': 10,\n",
    "            'learning_rate': 1.0,\n",
    "            'n_estimators':175\n",
    "        }\n",
    "xgb_clf = XGBClassifier(**params)"
   ]
  },
  {
   "cell_type": "code",
   "execution_count": 11,
   "id": "0e8a43d1",
   "metadata": {},
   "outputs": [
    {
     "name": "stderr",
     "output_type": "stream",
     "text": [
      "C:\\Users\\Dell\\anaconda3\\lib\\site-packages\\xgboost\\sklearn.py:1224: UserWarning: The use of label encoder in XGBClassifier is deprecated and will be removed in a future release. To remove this warning, do the following: 1) Pass option use_label_encoder=False when constructing XGBClassifier object; and 2) Encode your labels (y) as integers starting with 0, i.e. 0, 1, 2, ..., [num_class - 1].\n",
      "  warnings.warn(label_encoder_deprecation_msg, UserWarning)\n"
     ]
    },
    {
     "name": "stdout",
     "output_type": "stream",
     "text": [
      "[19:57:00] WARNING: ..\\src\\learner.cc:1115: Starting in XGBoost 1.3.0, the default evaluation metric used with the objective 'binary:logistic' was changed from 'error' to 'logloss'. Explicitly set eval_metric if you'd like to restore the old behavior.\n",
      "CPU times: total: 1h 5min 19s\n",
      "Wall time: 9min 51s\n"
     ]
    },
    {
     "data": {
      "text/plain": [
       "XGBClassifier(alpha=10, base_score=0.5, booster='gbtree', colsample_bylevel=1,\n",
       "              colsample_bynode=1, colsample_bytree=1, enable_categorical=False,\n",
       "              gamma=0, gpu_id=-1, importance_type=None,\n",
       "              interaction_constraints='', learning_rate=1.0, max_delta_step=0,\n",
       "              max_depth=50, min_child_weight=1, missing=nan,\n",
       "              monotone_constraints='()', n_estimators=175, n_jobs=8,\n",
       "              num_parallel_tree=1, predictor='auto', random_state=0,\n",
       "              reg_alpha=10, reg_lambda=1, scale_pos_weight=1, subsample=1,\n",
       "              tree_method='exact', validate_parameters=1, verbosity=None)"
      ]
     },
     "execution_count": 11,
     "metadata": {},
     "output_type": "execute_result"
    }
   ],
   "source": [
    "%%time\n",
    "xgb_clf.fit(X_train_scaled, y_train)"
   ]
  },
  {
   "cell_type": "code",
   "execution_count": 12,
   "id": "1f4d9637",
   "metadata": {},
   "outputs": [
    {
     "name": "stdout",
     "output_type": "stream",
     "text": [
      "XGBClassifier(alpha=10, base_score=0.5, booster='gbtree', colsample_bylevel=1,\n",
      "              colsample_bynode=1, colsample_bytree=1, enable_categorical=False,\n",
      "              gamma=0, gpu_id=-1, importance_type=None,\n",
      "              interaction_constraints='', learning_rate=1.0, max_delta_step=0,\n",
      "              max_depth=50, min_child_weight=1, missing=nan,\n",
      "              monotone_constraints='()', n_estimators=175, n_jobs=8,\n",
      "              num_parallel_tree=1, predictor='auto', random_state=0,\n",
      "              reg_alpha=10, reg_lambda=1, scale_pos_weight=1, subsample=1,\n",
      "              tree_method='exact', validate_parameters=1, verbosity=None)\n"
     ]
    }
   ],
   "source": [
    "print(xgb_clf)"
   ]
  },
  {
   "cell_type": "code",
   "execution_count": 13,
   "id": "e6e1f54e",
   "metadata": {},
   "outputs": [
    {
     "data": {
      "text/plain": [
       "array([0, 0, 0, ..., 1, 0, 1], dtype=int64)"
      ]
     },
     "execution_count": 13,
     "metadata": {},
     "output_type": "execute_result"
    }
   ],
   "source": [
    "# make predictions on test data\n",
    "y_pred = xgb_clf.predict(X_test_scaled)\n",
    "y_pred"
   ]
  },
  {
   "cell_type": "code",
   "execution_count": 14,
   "id": "f8d1b111",
   "metadata": {},
   "outputs": [
    {
     "data": {
      "text/plain": [
       "0.808902886717888"
      ]
     },
     "execution_count": 14,
     "metadata": {},
     "output_type": "execute_result"
    }
   ],
   "source": [
    "from sklearn.metrics import accuracy_score\n",
    "accuracy_score(y_test, y_pred)"
   ]
  },
  {
   "cell_type": "code",
   "execution_count": 15,
   "id": "281acadd",
   "metadata": {},
   "outputs": [
    {
     "name": "stdout",
     "output_type": "stream",
     "text": [
      "              precision    recall  f1-score   support\n",
      "\n",
      "           0       0.78      0.75      0.76     62023\n",
      "           1       0.83      0.85      0.84     87524\n",
      "\n",
      "    accuracy                           0.81    149547\n",
      "   macro avg       0.80      0.80      0.80    149547\n",
      "weighted avg       0.81      0.81      0.81    149547\n",
      "\n"
     ]
    }
   ],
   "source": [
    "from sklearn.metrics import classification_report\n",
    "print(classification_report(y_test, y_pred))"
   ]
  },
  {
   "cell_type": "code",
   "execution_count": 16,
   "id": "3afd29e0",
   "metadata": {},
   "outputs": [
    {
     "data": {
      "image/png": "[encoded data removed]",
      "text/plain": [
       "<Figure size 360x360 with 2 Axes>"
      ]
     },
     "metadata": {
      "needs_background": "light"
     },
     "output_type": "display_data"
    }
   ],
   "source": [
    "from sklearn.metrics import confusion_matrix\n",
    "cm=confusion_matrix(y_test,y_pred)\n",
    "f,ax=plt.subplots(figsize=(5,5))\n",
    "sns.heatmap(cm,annot=True,linewidth=0.5,linecolor=\"red\",fmt=\".0f\",ax=ax)\n",
    "plt.xlabel(\"y_pred\")\n",
    "plt.ylabel(\"y_true\")\n",
    "plt.show()"
   ]
  },
  {
   "cell_type": "code",
   "execution_count": 17,
   "id": "04dcb2be",
   "metadata": {},
   "outputs": [
    {
     "data": {
      "image/png": "[encoded data removed]",
      "text/plain": [
       "<Figure size 1440x2160 with 1 Axes>"
      ]
     },
     "metadata": {
      "needs_background": "light"
     },
     "output_type": "display_data"
    }
   ],
   "source": [
    "#Feature importances\n",
    "features=data.columns\n",
    "importances=xgb_clf.feature_importances_\n",
    "indices=np.argsort(importances)\n",
    "\n",
    "plt.figure(figsize=(20,30))\n",
    "plt.title(\"Feature Importances\")\n",
    "plt.barh(range(len(indices)), importances[indices], color='b', align='center')\n",
    "plt.yticks(range(len(indices)), [features [i] for i in indices])\n",
    "plt.xlabel(\"Relative Importance\")\n",
    "plt.show()"
   ]
  },
  {
   "cell_type": "code",
   "execution_count": null,
   "id": "eee49616",
   "metadata": {},
   "outputs": [],
   "source": []
  },
  {
   "cell_type": "code",
   "execution_count": null,
   "id": "729d2223",
   "metadata": {},
   "outputs": [],
   "source": []
  },
  {
   "cell_type": "code",
   "execution_count": null,
   "id": "e3f8b563",
   "metadata": {},
   "outputs": [],
   "source": []
  },
  {
   "cell_type": "code",
   "execution_count": null,
   "id": "35bf7334",
   "metadata": {},
   "outputs": [],
   "source": []
  },
  {
   "cell_type": "code",
   "execution_count": null,
   "id": "a335c486",
   "metadata": {},
   "outputs": [],
   "source": []
  }
 ],
 "metadata": {
  "kernelspec": {
   "display_name": "Python 3 (ipykernel)",
   "language": "python",
   "name": "python3"
  },
  "language_info": {
   "codemirror_mode": {
    "name": "ipython",
    "version": 3
   },
   "file_extension": ".py",
   "mimetype": "text/x-python",
   "name": "python",
   "nbconvert_exporter": "python",
   "pygments_lexer": "ipython3",
   "version": "3.9.12"
  }
 },
 "nbformat": 4,
 "nbformat_minor": 5
}
