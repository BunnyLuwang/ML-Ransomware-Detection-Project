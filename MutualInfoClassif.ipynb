{
 "cells": [
  {
   "cell_type": "code",
   "execution_count": 1,
   "id": "d59a2b3a",
   "metadata": {},
   "outputs": [],
   "source": [
    "#importing basic packages\n",
    "import pandas as pd\n",
    "import numpy as np\n",
    "import seaborn as sns\n",
    "import matplotlib.pyplot as plt"
   ]
  },
  {
   "cell_type": "code",
   "execution_count": 2,
   "id": "27edf65a",
   "metadata": {},
   "outputs": [
    {
     "data": {
      "text/html": [
       "<div>\n",
       "<style scoped>\n",
       "    .dataframe tbody tr th:only-of-type {\n",
       "        vertical-align: middle;\n",
       "    }\n",
       "\n",
       "    .dataframe tbody tr th {\n",
       "        vertical-align: top;\n",
       "    }\n",
       "\n",
       "    .dataframe thead th {\n",
       "        text-align: right;\n",
       "    }\n",
       "</style>\n",
       "<table border=\"1\" class=\"dataframe\">\n",
       "  <thead>\n",
       "    <tr style=\"text-align: right;\">\n",
       "      <th></th>\n",
       "      <th>Flow ID</th>\n",
       "      <th>Source IP</th>\n",
       "      <th>Source Port</th>\n",
       "      <th>Destination IP</th>\n",
       "      <th>Destination Port</th>\n",
       "      <th>Protocol</th>\n",
       "      <th>Timestamp</th>\n",
       "      <th>Flow Duration</th>\n",
       "      <th>Total Fwd Packets</th>\n",
       "      <th>Total Backward Packets</th>\n",
       "      <th>...</th>\n",
       "      <th>min_seg_size_forward</th>\n",
       "      <th>Active Mean</th>\n",
       "      <th>Active Std</th>\n",
       "      <th>Active Max</th>\n",
       "      <th>Active Min</th>\n",
       "      <th>Idle Mean</th>\n",
       "      <th>Idle Std</th>\n",
       "      <th>Idle Max</th>\n",
       "      <th>Idle Min</th>\n",
       "      <th>Label</th>\n",
       "    </tr>\n",
       "  </thead>\n",
       "  <tbody>\n",
       "    <tr>\n",
       "      <th>0</th>\n",
       "      <td>172.217.2.174-10.42.0.211-443-51023-6</td>\n",
       "      <td>10.42.0.211</td>\n",
       "      <td>51023</td>\n",
       "      <td>172.217.2.174</td>\n",
       "      <td>443</td>\n",
       "      <td>6</td>\n",
       "      <td>16/06/2017 03:55:47</td>\n",
       "      <td>151054</td>\n",
       "      <td>6</td>\n",
       "      <td>8</td>\n",
       "      <td>...</td>\n",
       "      <td>32</td>\n",
       "      <td>0.0</td>\n",
       "      <td>0.0</td>\n",
       "      <td>0.0</td>\n",
       "      <td>0.0</td>\n",
       "      <td>0.0</td>\n",
       "      <td>0.0</td>\n",
       "      <td>0.0</td>\n",
       "      <td>0.0</td>\n",
       "      <td>0</td>\n",
       "    </tr>\n",
       "    <tr>\n",
       "      <th>1</th>\n",
       "      <td>172.217.2.174-10.42.0.211-443-51023-6</td>\n",
       "      <td>10.42.0.211</td>\n",
       "      <td>51023</td>\n",
       "      <td>172.217.2.174</td>\n",
       "      <td>443</td>\n",
       "      <td>6</td>\n",
       "      <td>16/06/2017 03:55:47</td>\n",
       "      <td>349</td>\n",
       "      <td>2</td>\n",
       "      <td>0</td>\n",
       "      <td>...</td>\n",
       "      <td>32</td>\n",
       "      <td>0.0</td>\n",
       "      <td>0.0</td>\n",
       "      <td>0.0</td>\n",
       "      <td>0.0</td>\n",
       "      <td>0.0</td>\n",
       "      <td>0.0</td>\n",
       "      <td>0.0</td>\n",
       "      <td>0.0</td>\n",
       "      <td>0</td>\n",
       "    </tr>\n",
       "    <tr>\n",
       "      <th>2</th>\n",
       "      <td>172.217.12.174-10.42.0.211-443-34259-6</td>\n",
       "      <td>10.42.0.211</td>\n",
       "      <td>34259</td>\n",
       "      <td>172.217.12.174</td>\n",
       "      <td>443</td>\n",
       "      <td>6</td>\n",
       "      <td>16/06/2017 03:55:52</td>\n",
       "      <td>119</td>\n",
       "      <td>2</td>\n",
       "      <td>0</td>\n",
       "      <td>...</td>\n",
       "      <td>32</td>\n",
       "      <td>0.0</td>\n",
       "      <td>0.0</td>\n",
       "      <td>0.0</td>\n",
       "      <td>0.0</td>\n",
       "      <td>0.0</td>\n",
       "      <td>0.0</td>\n",
       "      <td>0.0</td>\n",
       "      <td>0.0</td>\n",
       "      <td>0</td>\n",
       "    </tr>\n",
       "    <tr>\n",
       "      <th>3</th>\n",
       "      <td>172.217.10.74-10.42.0.211-443-55509-6</td>\n",
       "      <td>10.42.0.211</td>\n",
       "      <td>55509</td>\n",
       "      <td>172.217.10.74</td>\n",
       "      <td>443</td>\n",
       "      <td>6</td>\n",
       "      <td>16/06/2017 03:55:53</td>\n",
       "      <td>37055</td>\n",
       "      <td>1</td>\n",
       "      <td>1</td>\n",
       "      <td>...</td>\n",
       "      <td>32</td>\n",
       "      <td>0.0</td>\n",
       "      <td>0.0</td>\n",
       "      <td>0.0</td>\n",
       "      <td>0.0</td>\n",
       "      <td>0.0</td>\n",
       "      <td>0.0</td>\n",
       "      <td>0.0</td>\n",
       "      <td>0.0</td>\n",
       "      <td>0</td>\n",
       "    </tr>\n",
       "    <tr>\n",
       "      <th>4</th>\n",
       "      <td>172.217.2.174-10.42.0.211-443-44852-6</td>\n",
       "      <td>10.42.0.211</td>\n",
       "      <td>44852</td>\n",
       "      <td>172.217.2.174</td>\n",
       "      <td>443</td>\n",
       "      <td>6</td>\n",
       "      <td>16/06/2017 03:55:58</td>\n",
       "      <td>178727</td>\n",
       "      <td>6</td>\n",
       "      <td>7</td>\n",
       "      <td>...</td>\n",
       "      <td>32</td>\n",
       "      <td>0.0</td>\n",
       "      <td>0.0</td>\n",
       "      <td>0.0</td>\n",
       "      <td>0.0</td>\n",
       "      <td>0.0</td>\n",
       "      <td>0.0</td>\n",
       "      <td>0.0</td>\n",
       "      <td>0.0</td>\n",
       "      <td>0</td>\n",
       "    </tr>\n",
       "  </tbody>\n",
       "</table>\n",
       "<p>5 rows × 85 columns</p>\n",
       "</div>"
      ],
      "text/plain": [
       "                                  Flow ID    Source IP   Source Port  \\\n",
       "0   172.217.2.174-10.42.0.211-443-51023-6  10.42.0.211         51023   \n",
       "1   172.217.2.174-10.42.0.211-443-51023-6  10.42.0.211         51023   \n",
       "2  172.217.12.174-10.42.0.211-443-34259-6  10.42.0.211         34259   \n",
       "3   172.217.10.74-10.42.0.211-443-55509-6  10.42.0.211         55509   \n",
       "4   172.217.2.174-10.42.0.211-443-44852-6  10.42.0.211         44852   \n",
       "\n",
       "   Destination IP   Destination Port   Protocol            Timestamp  \\\n",
       "0   172.217.2.174                443          6  16/06/2017 03:55:47   \n",
       "1   172.217.2.174                443          6  16/06/2017 03:55:47   \n",
       "2  172.217.12.174                443          6  16/06/2017 03:55:52   \n",
       "3   172.217.10.74                443          6  16/06/2017 03:55:53   \n",
       "4   172.217.2.174                443          6  16/06/2017 03:55:58   \n",
       "\n",
       "    Flow Duration   Total Fwd Packets   Total Backward Packets  ...  \\\n",
       "0          151054                   6                        8  ...   \n",
       "1             349                   2                        0  ...   \n",
       "2             119                   2                        0  ...   \n",
       "3           37055                   1                        1  ...   \n",
       "4          178727                   6                        7  ...   \n",
       "\n",
       "    min_seg_size_forward  Active Mean   Active Std   Active Max   Active Min  \\\n",
       "0                     32          0.0          0.0          0.0          0.0   \n",
       "1                     32          0.0          0.0          0.0          0.0   \n",
       "2                     32          0.0          0.0          0.0          0.0   \n",
       "3                     32          0.0          0.0          0.0          0.0   \n",
       "4                     32          0.0          0.0          0.0          0.0   \n",
       "\n",
       "   Idle Mean   Idle Std   Idle Max   Idle Min  Label  \n",
       "0        0.0        0.0        0.0        0.0      0  \n",
       "1        0.0        0.0        0.0        0.0      0  \n",
       "2        0.0        0.0        0.0        0.0      0  \n",
       "3        0.0        0.0        0.0        0.0      0  \n",
       "4        0.0        0.0        0.0        0.0      0  \n",
       "\n",
       "[5 rows x 85 columns]"
      ]
     },
     "execution_count": 2,
     "metadata": {},
     "output_type": "execute_result"
    }
   ],
   "source": [
    "#load dataframe\n",
    "data = pd.read_csv('RanBenign_set.csv', index_col=0)\n",
    "data.head()"
   ]
  },
  {
   "cell_type": "code",
   "execution_count": 3,
   "id": "a8669797",
   "metadata": {},
   "outputs": [
    {
     "name": "stdout",
     "output_type": "stream",
     "text": [
      "1    348943\n",
      "0    249245\n",
      "Name: Label, dtype: int64\n"
     ]
    }
   ],
   "source": [
    "#check class counts\n",
    "sizes = data['Label'].value_counts(sort=1)\n",
    "print(sizes)"
   ]
  },
  {
   "cell_type": "code",
   "execution_count": 4,
   "id": "dd4862e9",
   "metadata": {},
   "outputs": [],
   "source": [
    "#eliminating unimportant and duplicate columns \n",
    "data=data.drop([' Timestamp', 'Flow ID', ' Source IP' ], axis=1)\n",
    "data=data.drop([' Destination IP', ' Fwd Header Length.1'  ], axis=1)\n",
    "#eliminating constant columns\n",
    "data=data.drop([' Bwd PSH Flags', ' Fwd URG Flags', ' Bwd URG Flags' ], axis=1)\n",
    "data=data.drop([' RST Flag Count', ' CWE Flag Count', ' ECE Flag Count'  ], axis=1)\n",
    "data=data.drop(['Fwd Avg Bytes/Bulk', ' Fwd Avg Packets/Bulk', ' Fwd Avg Bulk Rate' ], axis=1)\n",
    "data=data.drop([' Bwd Avg Bytes/Bulk', ' Bwd Avg Packets/Bulk', 'Bwd Avg Bulk Rate'  ], axis=1)"
   ]
  },
  {
   "cell_type": "code",
   "execution_count": 5,
   "id": "81153e77",
   "metadata": {},
   "outputs": [
    {
     "data": {
      "text/plain": [
       " Source Port          0\n",
       " Destination Port     0\n",
       " Protocol             0\n",
       " Flow Duration        0\n",
       " Total Fwd Packets    0\n",
       "                     ..\n",
       "Idle Mean             0\n",
       " Idle Std             0\n",
       " Idle Max             0\n",
       " Idle Min             0\n",
       "Label                 0\n",
       "Length: 68, dtype: int64"
      ]
     },
     "execution_count": 5,
     "metadata": {},
     "output_type": "execute_result"
    }
   ],
   "source": [
    "#check null values\n",
    "data.isnull().sum()"
   ]
  },
  {
   "cell_type": "code",
   "execution_count": 6,
   "id": "850c7971",
   "metadata": {},
   "outputs": [],
   "source": [
    "#reducing dataframe by selecting 20 best features \n",
    "from sklearn.feature_selection import SelectKBest\n",
    "def select_k_best(score, X, Y):\n",
    "    selector = SelectKBest(score, k=20)\n",
    "    X_ = X.fillna(X.mean())\n",
    "    selector.fit_transform(X_, Y)\n",
    "    names = X.columns.values[selector.get_support()]\n",
    "    scores = selector.scores_[selector.get_support()]\n",
    "    names_scores = list(zip(names, scores))\n",
    "    df_reduced = pd.DataFrame(data=names_scores, columns=['feature_names', 'score'])\n",
    "    df_reduced = df_reduced.sort_values(['score', 'feature_names'], ascending=[False, True])\n",
    "    print(df_reduced)\n",
    "    return df_reduced.feature_names"
   ]
  },
  {
   "cell_type": "code",
   "execution_count": 7,
   "id": "0e5adb28",
   "metadata": {},
   "outputs": [
    {
     "name": "stdout",
     "output_type": "stream",
     "text": [
      "                   feature_names     score\n",
      "18        Init_Win_bytes_forward  0.081964\n",
      "9        Init_Win_bytes_backward  0.074323\n",
      "13        Packet Length Variance  0.067746\n",
      "12             Packet Length Std  0.067417\n",
      "1           Avg Bwd Segment Size  0.063817\n",
      "3         Bwd Packet Length Mean  0.063778\n",
      "16             Subflow Bwd Bytes  0.061652\n",
      "4          Bwd Packet Length Std  0.061124\n",
      "17   Total Length of Bwd Packets  0.060938\n",
      "0            Average Packet Size  0.055602\n",
      "11            Packet Length Mean  0.055561\n",
      "8          Fwd Packet Length Std  0.048713\n",
      "7         Fwd Packet Length Mean  0.042392\n",
      "2           Avg Fwd Segment Size  0.041952\n",
      "14                      Protocol  0.038999\n",
      "15                   Source Port  0.036442\n",
      "6                   Flow IAT Max  0.035284\n",
      "10             Max Packet Length  0.033365\n",
      "19   Total Length of Fwd Packets  0.033105\n",
      "5                  Flow Duration  0.032971\n"
     ]
    }
   ],
   "source": [
    "#new dataframe with selected features\n",
    "from sklearn.feature_selection import mutual_info_classif, f_classif\n",
    "frs_mi = select_k_best(mutual_info_classif, data[data.columns.difference(['Label'])], data.Label)\n",
    "d1=frs_mi.values\n",
    "d2=np.append(d1,'Label')\n",
    "data=data[d2]"
   ]
  },
  {
   "cell_type": "code",
   "execution_count": 8,
   "id": "7a3e6440",
   "metadata": {},
   "outputs": [
    {
     "data": {
      "text/plain": [
       "array(['Init_Win_bytes_forward', ' Init_Win_bytes_backward',\n",
       "       ' Packet Length Variance', ' Packet Length Std',\n",
       "       ' Avg Bwd Segment Size', ' Bwd Packet Length Mean',\n",
       "       ' Subflow Bwd Bytes', ' Bwd Packet Length Std',\n",
       "       ' Total Length of Bwd Packets', ' Average Packet Size',\n",
       "       ' Packet Length Mean', ' Fwd Packet Length Std',\n",
       "       ' Fwd Packet Length Mean', ' Avg Fwd Segment Size', ' Protocol',\n",
       "       ' Source Port', ' Flow IAT Max', ' Max Packet Length',\n",
       "       'Total Length of Fwd Packets', ' Flow Duration', 'Label'],\n",
       "      dtype=object)"
      ]
     },
     "execution_count": 8,
     "metadata": {},
     "output_type": "execute_result"
    }
   ],
   "source": [
    "data.columns.values"
   ]
  },
  {
   "cell_type": "code",
   "execution_count": 9,
   "id": "0ade4f58",
   "metadata": {},
   "outputs": [
    {
     "data": {
      "text/plain": [
       "((598188, 20), (598188,))"
      ]
     },
     "execution_count": 9,
     "metadata": {},
     "output_type": "execute_result"
    }
   ],
   "source": [
    "# Separatating & assigning features and target columns to X & y\n",
    "\n",
    "y = data['Label']\n",
    "X = data.drop('Label',axis=1)\n",
    "X.shape, y.shape"
   ]
  },
  {
   "cell_type": "code",
   "execution_count": 10,
   "id": "8ec3b5ed",
   "metadata": {},
   "outputs": [
    {
     "data": {
      "text/plain": [
       "((448641, 20), (149547, 20))"
      ]
     },
     "execution_count": 10,
     "metadata": {},
     "output_type": "execute_result"
    }
   ],
   "source": [
    "# Splitting the dataset into train and test sets: 75-25 split\n",
    "from sklearn.model_selection import train_test_split\n",
    "\n",
    "X_train, X_test, y_train, y_test = train_test_split(X, y,test_size = 0.25, random_state = 100)\n",
    "X_train.shape, X_test.shape"
   ]
  },
  {
   "cell_type": "code",
   "execution_count": 11,
   "id": "fb71b426",
   "metadata": {},
   "outputs": [],
   "source": [
    "from sklearn.preprocessing import MinMaxScaler\n",
    "\n",
    "scaler = MinMaxScaler()\n",
    "\n",
    "X_train_scaled = scaler.fit_transform(X_train)\n",
    "X_test_scaled = scaler.transform(X_test)"
   ]
  },
  {
   "cell_type": "code",
   "execution_count": 12,
   "id": "78093706",
   "metadata": {},
   "outputs": [],
   "source": [
    "from sklearn.ensemble import RandomForestClassifier\n",
    "clf = RandomForestClassifier(criterion=\"gini\", n_estimators=200, max_depth=75, min_samples_split=7, random_state=0, n_jobs=-1)"
   ]
  },
  {
   "cell_type": "code",
   "execution_count": 13,
   "id": "463edd5f",
   "metadata": {},
   "outputs": [
    {
     "name": "stdout",
     "output_type": "stream",
     "text": [
      "CPU times: total: 13min 41s\n",
      "Wall time: 1min 49s\n"
     ]
    },
    {
     "data": {
      "text/plain": [
       "RandomForestClassifier(max_depth=75, min_samples_split=7, n_estimators=200,\n",
       "                       n_jobs=-1, random_state=0)"
      ]
     },
     "execution_count": 13,
     "metadata": {},
     "output_type": "execute_result"
    }
   ],
   "source": [
    "%%time\n",
    "clf.fit(X_train_scaled, y_train)"
   ]
  },
  {
   "cell_type": "code",
   "execution_count": 14,
   "id": "10ea8051",
   "metadata": {},
   "outputs": [
    {
     "data": {
      "text/plain": [
       "array([1, 1, 0, ..., 1, 0, 1], dtype=int64)"
      ]
     },
     "execution_count": 14,
     "metadata": {},
     "output_type": "execute_result"
    }
   ],
   "source": [
    "y_pred = clf.predict(X_test_scaled)\n",
    "y_pred"
   ]
  },
  {
   "cell_type": "code",
   "execution_count": 15,
   "id": "a22fb53a",
   "metadata": {},
   "outputs": [
    {
     "data": {
      "text/plain": [
       "0.7962981537576815"
      ]
     },
     "execution_count": 15,
     "metadata": {},
     "output_type": "execute_result"
    }
   ],
   "source": [
    "from sklearn.metrics import accuracy_score\n",
    "accuracy_score(y_test, y_pred)"
   ]
  },
  {
   "cell_type": "code",
   "execution_count": 16,
   "id": "7814e6fe",
   "metadata": {},
   "outputs": [
    {
     "name": "stdout",
     "output_type": "stream",
     "text": [
      "              precision    recall  f1-score   support\n",
      "\n",
      "           0       0.78      0.71      0.74     62023\n",
      "           1       0.81      0.86      0.83     87524\n",
      "\n",
      "    accuracy                           0.80    149547\n",
      "   macro avg       0.79      0.78      0.79    149547\n",
      "weighted avg       0.80      0.80      0.79    149547\n",
      "\n"
     ]
    }
   ],
   "source": [
    "from sklearn.metrics import classification_report\n",
    "print(classification_report(y_test, y_pred))"
   ]
  },
  {
   "cell_type": "code",
   "execution_count": 17,
   "id": "f3af915f",
   "metadata": {},
   "outputs": [
    {
     "data": {
      "image/png": "[encoded data removed]",
      "text/plain": [
       "<Figure size 360x360 with 2 Axes>"
      ]
     },
     "metadata": {
      "needs_background": "light"
     },
     "output_type": "display_data"
    }
   ],
   "source": [
    "from sklearn.metrics import confusion_matrix\n",
    "cm=confusion_matrix(y_test,y_pred)\n",
    "f,ax=plt.subplots(figsize=(5,5))\n",
    "sns.heatmap(cm,annot=True,linewidth=0.5,linecolor=\"red\",fmt=\".0f\",ax=ax)\n",
    "plt.xlabel(\"y_pred\")\n",
    "plt.ylabel(\"y_true\")\n",
    "plt.show()"
   ]
  },
  {
   "cell_type": "code",
   "execution_count": null,
   "id": "7544b77b",
   "metadata": {},
   "outputs": [],
   "source": []
  }
 ],
 "metadata": {
  "kernelspec": {
   "display_name": "Python 3 (ipykernel)",
   "language": "python",
   "name": "python3"
  },
  "language_info": {
   "codemirror_mode": {
    "name": "ipython",
    "version": 3
   },
   "file_extension": ".py",
   "mimetype": "text/x-python",
   "name": "python",
   "nbconvert_exporter": "python",
   "pygments_lexer": "ipython3",
   "version": "3.9.12"
  }
 },
 "nbformat": 4,
 "nbformat_minor": 5
}
